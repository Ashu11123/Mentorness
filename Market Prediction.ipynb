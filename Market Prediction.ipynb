{
 "cells": [
  {
   "cell_type": "markdown",
   "id": "ba4e3766-23b8-4a3b-9515-9a066151c366",
   "metadata": {},
   "source": [
    "#  Data Preprocessing"
   ]
  },
  {
   "cell_type": "code",
   "execution_count": 1,
   "id": "a58b529c-d080-4562-8b9c-3f4d20786270",
   "metadata": {},
   "outputs": [],
   "source": [
    "import pandas as pd\n",
    "\n",
    "# Load the dataset\n",
    "data = pd.read_csv(r\"C:\\Users\\ashut\\Downloads\\Machine Learning\\Market Pridiction\\MarketPricePrediction.csv\")\n"
   ]
  },
  {
   "cell_type": "code",
   "execution_count": 2,
   "id": "e98f3d5a-5f2e-429b-8eb5-1d89773df0d7",
   "metadata": {},
   "outputs": [
    {
     "data": {
      "text/html": [
       "<div>\n",
       "<style scoped>\n",
       "    .dataframe tbody tr th:only-of-type {\n",
       "        vertical-align: middle;\n",
       "    }\n",
       "\n",
       "    .dataframe tbody tr th {\n",
       "        vertical-align: top;\n",
       "    }\n",
       "\n",
       "    .dataframe thead th {\n",
       "        text-align: right;\n",
       "    }\n",
       "</style>\n",
       "<table border=\"1\" class=\"dataframe\">\n",
       "  <thead>\n",
       "    <tr style=\"text-align: right;\">\n",
       "      <th></th>\n",
       "      <th>market</th>\n",
       "      <th>month</th>\n",
       "      <th>year</th>\n",
       "      <th>quantity</th>\n",
       "      <th>priceMin</th>\n",
       "      <th>priceMax</th>\n",
       "      <th>priceMod</th>\n",
       "      <th>state</th>\n",
       "      <th>city</th>\n",
       "      <th>date</th>\n",
       "    </tr>\n",
       "  </thead>\n",
       "  <tbody>\n",
       "    <tr>\n",
       "      <th>0</th>\n",
       "      <td>ABOHAR(PB)</td>\n",
       "      <td>January</td>\n",
       "      <td>2005</td>\n",
       "      <td>2350</td>\n",
       "      <td>404</td>\n",
       "      <td>493</td>\n",
       "      <td>446</td>\n",
       "      <td>PB</td>\n",
       "      <td>ABOHAR</td>\n",
       "      <td>2005-01-01</td>\n",
       "    </tr>\n",
       "    <tr>\n",
       "      <th>1</th>\n",
       "      <td>ABOHAR(PB)</td>\n",
       "      <td>January</td>\n",
       "      <td>2006</td>\n",
       "      <td>900</td>\n",
       "      <td>487</td>\n",
       "      <td>638</td>\n",
       "      <td>563</td>\n",
       "      <td>PB</td>\n",
       "      <td>ABOHAR</td>\n",
       "      <td>2006-01-01</td>\n",
       "    </tr>\n",
       "    <tr>\n",
       "      <th>2</th>\n",
       "      <td>ABOHAR(PB)</td>\n",
       "      <td>January</td>\n",
       "      <td>2010</td>\n",
       "      <td>790</td>\n",
       "      <td>1283</td>\n",
       "      <td>1592</td>\n",
       "      <td>1460</td>\n",
       "      <td>PB</td>\n",
       "      <td>ABOHAR</td>\n",
       "      <td>2010-01-01</td>\n",
       "    </tr>\n",
       "    <tr>\n",
       "      <th>3</th>\n",
       "      <td>ABOHAR(PB)</td>\n",
       "      <td>January</td>\n",
       "      <td>2011</td>\n",
       "      <td>245</td>\n",
       "      <td>3067</td>\n",
       "      <td>3750</td>\n",
       "      <td>3433</td>\n",
       "      <td>PB</td>\n",
       "      <td>ABOHAR</td>\n",
       "      <td>2011-01-01</td>\n",
       "    </tr>\n",
       "    <tr>\n",
       "      <th>4</th>\n",
       "      <td>ABOHAR(PB)</td>\n",
       "      <td>January</td>\n",
       "      <td>2012</td>\n",
       "      <td>1035</td>\n",
       "      <td>523</td>\n",
       "      <td>686</td>\n",
       "      <td>605</td>\n",
       "      <td>PB</td>\n",
       "      <td>ABOHAR</td>\n",
       "      <td>2012-01-01</td>\n",
       "    </tr>\n",
       "  </tbody>\n",
       "</table>\n",
       "</div>"
      ],
      "text/plain": [
       "       market    month  year  quantity  priceMin  priceMax  priceMod state  \\\n",
       "0  ABOHAR(PB)  January  2005      2350       404       493       446    PB   \n",
       "1  ABOHAR(PB)  January  2006       900       487       638       563    PB   \n",
       "2  ABOHAR(PB)  January  2010       790      1283      1592      1460    PB   \n",
       "3  ABOHAR(PB)  January  2011       245      3067      3750      3433    PB   \n",
       "4  ABOHAR(PB)  January  2012      1035       523       686       605    PB   \n",
       "\n",
       "     city        date  \n",
       "0  ABOHAR  2005-01-01  \n",
       "1  ABOHAR  2006-01-01  \n",
       "2  ABOHAR  2010-01-01  \n",
       "3  ABOHAR  2011-01-01  \n",
       "4  ABOHAR  2012-01-01  "
      ]
     },
     "execution_count": 2,
     "metadata": {},
     "output_type": "execute_result"
    }
   ],
   "source": [
    "data.head()"
   ]
  },
  {
   "cell_type": "code",
   "execution_count": 3,
   "id": "613011af-60b2-4dd5-a496-965c95824a7e",
   "metadata": {},
   "outputs": [],
   "source": [
    "# Fill missing values or drop rows/columns with too many missing values\n",
    "data = data.dropna()  \n"
   ]
  },
  {
   "cell_type": "code",
   "execution_count": 5,
   "id": "47872830-df4e-4c30-9cbc-5c0d818d57e5",
   "metadata": {},
   "outputs": [],
   "source": [
    "# Encode categorical variables\n",
    "data = pd.get_dummies(data, columns=['market', 'state', 'city'], drop_first=True)\n"
   ]
  },
  {
   "cell_type": "code",
   "execution_count": 7,
   "id": "3fcc858f-7433-4139-9629-7cbf6f638692",
   "metadata": {},
   "outputs": [],
   "source": [
    "data['date'] = pd.to_datetime(data['date'])\n",
    "data.set_index('date', inplace=True)\n"
   ]
  },
  {
   "cell_type": "markdown",
   "id": "c815c277-5831-47be-b2e0-a83a8c0674aa",
   "metadata": {},
   "source": [
    "# Exploratory Data Analysis (EDA)"
   ]
  },
  {
   "cell_type": "code",
   "execution_count": null,
   "id": "09a0b4d8-3ce2-4c5d-ae3a-16cf175f76fb",
   "metadata": {},
   "outputs": [],
   "source": [
    "import statsmodels as sm\n",
    "import statsmodels.api as sm\n",
    "decomposition = sm.tsa.seasonal_decompose(df, model = 'additive')\n",
    "fig = decomposition.plot()\n",
    "matplotlib.rcParams['figure.figsize'] = [9.0,5.0]"
   ]
  },
  {
   "cell_type": "code",
   "execution_count": 9,
   "id": "4f865fbc-0bc0-4802-a9c6-5646cbac5015",
   "metadata": {},
   "outputs": [
    {
     "data": {
      "image/png": "[encoded data removed]",
      "text/plain": [
       "<Figure size 1000x600 with 1 Axes>"
      ]
     },
     "metadata": {},
     "output_type": "display_data"
    }
   ],
   "source": [
    "import matplotlib.pyplot as plt\n",
    "\n",
    "plt.figure(figsize=(10, 6))\n",
    "plt.plot(df['quantity'])\n",
    "plt.title('Quantity over Time')\n",
    "plt.xlabel('Date')\n",
    "plt.ylabel('Quantity')\n",
    "plt.show()\n"
   ]
  },
  {
   "cell_type": "code",
   "execution_count": null,
   "id": "24517b4e-3fcb-4306-9702-20bf7e82818b",
   "metadata": {},
   "outputs": [],
   "source": [
    "from statsmodels.tsa.seasonal import seasonal_decompose\n",
    "\n",
    "decomposition = seasonal_decompose(data['quantity'], model='additive')\n",
    "decomposition.plot()\n",
    "plt.show()\n"
   ]
  },
  {
   "cell_type": "markdown",
   "id": "67f49d4d-5b02-41c6-a586-41aa44474f95",
   "metadata": {},
   "source": [
    "# Feature Engineering"
   ]
  },
  {
   "cell_type": "code",
   "execution_count": 9,
   "id": "86abfc05-cfe9-4ca1-9bda-659951839384",
   "metadata": {},
   "outputs": [],
   "source": [
    "data['quantity_lag1'] = data['quantity'].shift(1)\n",
    "data['quantity_lag2'] = data['quantity'].shift(2)\n"
   ]
  },
  {
   "cell_type": "code",
   "execution_count": 10,
   "id": "b1ab4176-a24f-4563-9cb2-d07a3150c68e",
   "metadata": {},
   "outputs": [],
   "source": [
    "data['quantity_roll_mean'] = data['quantity'].rolling(window=3).mean()\n",
    "data['quantity_roll_std'] = data['quantity'].rolling(window=3).std()\n"
   ]
  },
  {
   "cell_type": "code",
   "execution_count": 12,
   "id": "3e218992-a078-415e-9226-50b325203209",
   "metadata": {},
   "outputs": [],
   "source": [
    "data['month'] = data.index.month\n",
    "data['year'] = data.index.year\n"
   ]
  },
  {
   "cell_type": "markdown",
   "id": "2aa189d5-5955-4f1a-abef-91ea5a4804a7",
   "metadata": {},
   "source": [
    "# Model Selection and Training"
   ]
  },
  {
   "cell_type": "code",
   "execution_count": 14,
   "id": "c27b5144-78b2-4125-aa11-52cda0213b4f",
   "metadata": {},
   "outputs": [
    {
     "name": "stderr",
     "output_type": "stream",
     "text": [
      "C:\\Users\\ashut\\AppData\\Local\\Programs\\Python\\Python311\\Lib\\site-packages\\statsmodels\\tsa\\base\\tsa_model.py:473: ValueWarning: A date index has been provided, but it has no associated frequency information and so will be ignored when e.g. forecasting.\n",
      "  self._init_dates(dates, freq)\n",
      "C:\\Users\\ashut\\AppData\\Local\\Programs\\Python\\Python311\\Lib\\site-packages\\statsmodels\\tsa\\base\\tsa_model.py:473: ValueWarning: A date index has been provided, but it is not monotonic and so will be ignored when e.g. forecasting.\n",
      "  self._init_dates(dates, freq)\n",
      "C:\\Users\\ashut\\AppData\\Local\\Programs\\Python\\Python311\\Lib\\site-packages\\statsmodels\\tsa\\base\\tsa_model.py:473: ValueWarning: A date index has been provided, but it has no associated frequency information and so will be ignored when e.g. forecasting.\n",
      "  self._init_dates(dates, freq)\n",
      "C:\\Users\\ashut\\AppData\\Local\\Programs\\Python\\Python311\\Lib\\site-packages\\statsmodels\\tsa\\base\\tsa_model.py:473: ValueWarning: A date index has been provided, but it is not monotonic and so will be ignored when e.g. forecasting.\n",
      "  self._init_dates(dates, freq)\n",
      "C:\\Users\\ashut\\AppData\\Local\\Programs\\Python\\Python311\\Lib\\site-packages\\statsmodels\\tsa\\base\\tsa_model.py:473: ValueWarning: A date index has been provided, but it has no associated frequency information and so will be ignored when e.g. forecasting.\n",
      "  self._init_dates(dates, freq)\n",
      "C:\\Users\\ashut\\AppData\\Local\\Programs\\Python\\Python311\\Lib\\site-packages\\statsmodels\\tsa\\base\\tsa_model.py:473: ValueWarning: A date index has been provided, but it is not monotonic and so will be ignored when e.g. forecasting.\n",
      "  self._init_dates(dates, freq)\n"
     ]
    },
    {
     "name": "stdout",
     "output_type": "stream",
     "text": [
      "                               SARIMAX Results                                \n",
      "==============================================================================\n",
      "Dep. Variable:               quantity   No. Observations:                10227\n",
      "Model:                 ARIMA(5, 1, 0)   Log Likelihood             -127364.490\n",
      "Date:                Mon, 27 May 2024   AIC                         254740.980\n",
      "Time:                        11:27:44   BIC                         254784.376\n",
      "Sample:                             0   HQIC                        254755.653\n",
      "                              - 10227                                         \n",
      "Covariance Type:                  opg                                         \n",
      "==============================================================================\n",
      "                 coef    std err          z      P>|z|      [0.025      0.975]\n",
      "------------------------------------------------------------------------------\n",
      "ar.L1         -0.5108      0.003   -153.038      0.000      -0.517      -0.504\n",
      "ar.L2         -0.2994      0.004    -77.486      0.000      -0.307      -0.292\n",
      "ar.L3         -0.1626      0.004    -38.988      0.000      -0.171      -0.154\n",
      "ar.L4         -0.1344      0.004    -31.834      0.000      -0.143      -0.126\n",
      "ar.L5         -0.1201      0.004    -31.504      0.000      -0.128      -0.113\n",
      "sigma2      3.855e+09   4.65e-13    8.3e+21      0.000    3.85e+09    3.85e+09\n",
      "===================================================================================\n",
      "Ljung-Box (L1) (Q):                   0.10   Jarque-Bera (JB):            382254.27\n",
      "Prob(Q):                              0.75   Prob(JB):                         0.00\n",
      "Heteroskedasticity (H):               0.91   Skew:                             0.25\n",
      "Prob(H) (two-sided):                  0.01   Kurtosis:                        32.95\n",
      "===================================================================================\n",
      "\n",
      "Warnings:\n",
      "[1] Covariance matrix calculated using the outer product of gradients (complex-step).\n",
      "[2] Covariance matrix is singular or near-singular, with condition number    inf. Standard errors may be unstable.\n"
     ]
    }
   ],
   "source": [
    "from statsmodels.tsa.arima.model import ARIMA\n",
    "\n",
    "model = ARIMA(data['quantity'], order=(5,1,0))\n",
    "model_fit = model.fit()\n",
    "print(model_fit.summary())\n"
   ]
  },
  {
   "cell_type": "code",
   "execution_count": null,
   "id": "401e9374-0a35-4ed6-8a51-15a7d243c4d8",
   "metadata": {},
   "outputs": [],
   "source": [
    "from fbprophet import Prophet\n",
    "\n",
    "data_prophet = data.reset_index().rename(columns={'date': 'ds', 'quantity': 'y'})\n",
    "model = Prophet()\n",
    "model.fit(df_prophet)\n",
    "\n",
    "future = model.make_future_dataframe(periods=12, freq='M')\n",
    "forecast = model.predict(future)\n",
    "model.plot(forecast)\n",
    "plt.show()\n"
   ]
  },
  {
   "cell_type": "code",
   "execution_count": null,
   "id": "760badb5-1f01-417c-bf0e-a8f727509e0a",
   "metadata": {},
   "outputs": [],
   "source": [
    "from tensorflow.keras.models import Sequential\n",
    "from tensorflow.keras.layers import LSTM, Dense\n",
    "import numpy as np\n",
    "\n",
    "# Prepare the data for LSTM\n",
    "def create_lstm_dataset(data, time_step=1):\n",
    "    X, y = [], []\n",
    "    for i in range(len(data) - time_step - 1):\n",
    "        X.append(data[i:(i + time_step), 0])\n",
    "        y.append(data[i + time_step, 0])\n",
    "    return np.array(X), np.array(y)\n",
    "\n",
    "# Scale and reshape the data\n",
    "from sklearn.preprocessing import MinMaxScaler\n",
    "\n",
    "scaler = MinMaxScaler(feature_range=(0, 1))\n",
    "df_scaled = scaler.fit_transform(df['quantity'].values.reshape(-1, 1))\n",
    "\n",
    "time_step = 10\n",
    "X, y = create_lstm_dataset(df_scaled, time_step)\n",
    "X = X.reshape(X.shape[0], X.shape[1], 1)\n",
    "\n",
    "# Build the LSTM model\n",
    "model = Sequential()\n",
    "model.add(LSTM(50, return_sequences=True, input_shape=(time_step, 1)))\n",
    "model.add(LSTM(50, return_sequences=False))\n",
    "model.add(Dense(25))\n",
    "model.add(Dense(1))\n",
    "\n",
    "# Compile and train the model\n",
    "model.compile(optimizer='adam', loss='mean_squared_error')\n",
    "model.fit(X, y, batch_size=1, epochs=1)\n"
   ]
  },
  {
   "cell_type": "markdown",
   "id": "fa9d654c-75c0-4bd3-bb85-52e0f3b7b29e",
   "metadata": {},
   "source": [
    "# Model Evaluation"
   ]
  },
  {
   "cell_type": "code",
   "execution_count": null,
   "id": "c15e58f1-6a7f-45cd-a795-66fb8c581648",
   "metadata": {},
   "outputs": [],
   "source": [
    "from sklearn.metrics import mean_absolute_error, mean_squared_error\n",
    "import numpy as np\n",
    "\n",
    "y_pred = model.predict(X)\n",
    "y_pred = scaler.inverse_transform(y_pred)\n",
    "y_true = scaler.inverse_transform(y.reshape(-1, 1))\n",
    "\n",
    "mae = mean_absolute_error(y_true, y_pred)\n",
    "mse = mean_squared_error(y_true, y_pred)\n",
    "rmse = np.sqrt(mse)\n",
    "\n",
    "print('MAE:', mae)\n",
    "print('MSE:', mse)\n",
    "print('RMSE:', rmse)\n"
   ]
  },
  {
   "cell_type": "markdown",
   "id": "82a06fbc-3b93-4997-bd42-bb61e3e9adc8",
   "metadata": {},
   "source": [
    "# Fine-tuning and Validation"
   ]
  },
  {
   "cell_type": "code",
   "execution_count": 13,
   "id": "bd80b8d9-55ec-43cf-9405-3f1d620be14e",
   "metadata": {},
   "outputs": [
    {
     "name": "stdout",
     "output_type": "stream",
     "text": [
      "Best order: None\n",
      "Best RMSE: inf\n"
     ]
    }
   ],
   "source": [
    "# Example for ARIMA\n",
    "from statsmodels.tsa.arima.model import ARIMA\n",
    "\n",
    "best_order = None\n",
    "best_rmse = float('inf')\n",
    "for p in range(1, 6):\n",
    "    for d in range(1, 3):\n",
    "        for q in range(1, 6):\n",
    "            try:\n",
    "                model = ARIMA(df['quantity'], order=(p,d,q))\n",
    "                model_fit = model.fit()\n",
    "                y_pred = model_fit.forecast(steps=len(df))\n",
    "                rmse = np.sqrt(mean_squared_error(df['quantity'], y_pred))\n",
    "                if rmse < best_rmse:\n",
    "                    best_rmse = rmse\n",
    "                    best_order = (p, d, q)\n",
    "            except:\n",
    "                continue\n",
    "print('Best order:', best_order)\n",
    "print('Best RMSE:', best_rmse)\n"
   ]
  },
  {
   "cell_type": "code",
   "execution_count": null,
   "id": "28c957d7-a78e-4621-a2e4-15057bef18e8",
   "metadata": {},
   "outputs": [],
   "source": [
    "from sklearn.model_selection import TimeSeriesSplit\n",
    "\n",
    "tscv = TimeSeriesSplit(n_splits=5)\n",
    "for train_index, test_index in tscv.split(data):\n",
    "    train, test = df.iloc[train_index], df.iloc[test_index]\n",
    "    # Train and evaluate the model on each fold\n"
   ]
  },
  {
   "cell_type": "code",
   "execution_count": null,
   "id": "14b96309-50d2-45fd-983e-5fc16c754846",
   "metadata": {},
   "outputs": [],
   "source": []
  }
 ],
 "metadata": {
  "kernelspec": {
   "display_name": "Python 3 (ipykernel)",
   "language": "python",
   "name": "python3"
  },
  "language_info": {
   "codemirror_mode": {
    "name": "ipython",
    "version": 3
   },
   "file_extension": ".py",
   "mimetype": "text/x-python",
   "name": "python",
   "nbconvert_exporter": "python",
   "pygments_lexer": "ipython3",
   "version": "3.11.5"
  }
 },
 "nbformat": 4,
 "nbformat_minor": 5
}
